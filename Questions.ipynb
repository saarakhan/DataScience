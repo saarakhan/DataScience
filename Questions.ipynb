{
  "nbformat": 4,
  "nbformat_minor": 0,
  "metadata": {
    "colab": {
      "provenance": [],
      "authorship_tag": "ABX9TyPEiVGfBoxxACZXvs81QZ/B",
      "include_colab_link": true
    },
    "kernelspec": {
      "name": "python3",
      "display_name": "Python 3"
    },
    "language_info": {
      "name": "python"
    }
  },
  "cells": [
    {
      "cell_type": "markdown",
      "metadata": {
        "id": "view-in-github",
        "colab_type": "text"
      },
      "source": [
        "<a href=\"https://colab.research.google.com/github/saarakhan/DataScience_Assigment/blob/main/Questions.ipynb\" target=\"_parent\"><img src=\"https://colab.research.google.com/assets/colab-badge.svg\" alt=\"Open In Colab\"/></a>"
      ]
    },
    {
      "cell_type": "code",
      "source": [
        "# single comment\n",
        "# another single comment\n",
        "\n",
        "print(\"Saara Khan\")"
      ],
      "metadata": {
        "colab": {
          "base_uri": "https://localhost:8080/"
        },
        "collapsed": true,
        "id": "r0FvO0qFzq6o",
        "outputId": "9921f5a6-ad92-40b3-d221-8e4f2d6a5f1a"
      },
      "execution_count": null,
      "outputs": [
        {
          "output_type": "stream",
          "name": "stdout",
          "text": [
            "Saara Khan\n"
          ]
        }
      ]
    },
    {
      "cell_type": "code",
      "source": [
        "import math as m\n",
        "a = m.pi\n",
        "print(a)"
      ],
      "metadata": {
        "colab": {
          "base_uri": "https://localhost:8080/"
        },
        "id": "kmjB5w6-0Pz2",
        "outputId": "0a511381-d0c8-4795-9717-9ba12841ee5b"
      },
      "execution_count": null,
      "outputs": [
        {
          "output_type": "stream",
          "name": "stdout",
          "text": [
            "3.141592653589793\n"
          ]
        }
      ]
    },
    {
      "cell_type": "code",
      "source": [
        "import pandas as pd\n",
        "data = pd.read_csv(\"/content/sample_data/california_housing_test.csv\")\n",
        "print(data)"
      ],
      "metadata": {
        "id": "rioMIkAH0l_e"
      },
      "execution_count": null,
      "outputs": []
    },
    {
      "cell_type": "code",
      "source": [
        "import pandas as pd\n",
        "data = pd.read_csv(\"/content/sample_data/california_housing_test.csv\")\n",
        "print(data.iloc[0 : 4])"
      ],
      "metadata": {
        "colab": {
          "base_uri": "https://localhost:8080/"
        },
        "id": "z5RujUVS05Km",
        "outputId": "ae773622-423c-446c-9c46-5d5ad103fad2"
      },
      "execution_count": null,
      "outputs": [
        {
          "output_type": "stream",
          "name": "stdout",
          "text": [
            "   longitude  latitude  housing_median_age  total_rooms  total_bedrooms  \\\n",
            "0    -122.05     37.37                27.0       3885.0           661.0   \n",
            "1    -118.30     34.26                43.0       1510.0           310.0   \n",
            "2    -117.81     33.78                27.0       3589.0           507.0   \n",
            "3    -118.36     33.82                28.0         67.0            15.0   \n",
            "\n",
            "   population  households  median_income  median_house_value  \n",
            "0      1537.0       606.0         6.6085            344700.0  \n",
            "1       809.0       277.0         3.5990            176500.0  \n",
            "2      1484.0       495.0         5.7934            270500.0  \n",
            "3        49.0        11.0         6.1359            330000.0  \n"
          ]
        }
      ]
    },
    {
      "cell_type": "code",
      "source": [
        "import pandas as pd\n",
        "#How to Add an Index Field Using R/Python\n",
        "# DataFrame\n",
        "data = {'Product': ['Laptop', 'Phone', 'Tablet'], 'Price': [1000, 500, 300]}\n",
        "df = pd.DataFrame(data)\n",
        "\n",
        "# Adding an index field\n",
        "df['Index'] = range(1, len(df) + 1)\n",
        "print(df)\n"
      ],
      "metadata": {
        "id": "5qPkjLBi1Rh-",
        "colab": {
          "base_uri": "https://localhost:8080/"
        },
        "outputId": "e97564eb-9b4c-406c-99e2-34450da92103"
      },
      "execution_count": 1,
      "outputs": [
        {
          "output_type": "stream",
          "name": "stdout",
          "text": [
            "  Product  Price  Index\n",
            "0  Laptop   1000      1\n",
            "1   Phone    500      2\n",
            "2  Tablet    300      3\n"
          ]
        }
      ]
    },
    {
      "cell_type": "code",
      "source": [
        "#  How to Change Misleading Field Values Using Python\n",
        "\n",
        "df['Product'] = df['Product'].replace({'Phone': 'Smartphone'})\n",
        "print(df)\n"
      ],
      "metadata": {
        "colab": {
          "base_uri": "https://localhost:8080/"
        },
        "id": "9bD3GCd09aDi",
        "outputId": "9d1bfbb5-c31e-4657-caa1-e36eb42d1a9d"
      },
      "execution_count": 2,
      "outputs": [
        {
          "output_type": "stream",
          "name": "stdout",
          "text": [
            "      Product  Price  Index\n",
            "0      Laptop   1000      1\n",
            "1  Smartphone    500      2\n",
            "2      Tablet    300      3\n"
          ]
        }
      ]
    },
    {
      "cell_type": "code",
      "source": [
        "# How to Re Express Categorical Field Values Using Python\n",
        "\n",
        "# Adding a new categorical column\n",
        "df['Category'] = ['Electronics', 'Electronics', 'Electronics']\n",
        "\n",
        "# Re-expressing categories\n",
        "df['Category'] = df['Category'].map({'Electronics': 'Tech Gadgets'})\n",
        "print(df)\n"
      ],
      "metadata": {
        "colab": {
          "base_uri": "https://localhost:8080/"
        },
        "id": "Ih9WaFjJ9l2f",
        "outputId": "e4c04f53-3c09-440b-c86d-400bd0fb19a2"
      },
      "execution_count": 4,
      "outputs": [
        {
          "output_type": "stream",
          "name": "stdout",
          "text": [
            "      Product  Price  Index      Category\n",
            "0      Laptop   1000      1  Tech Gadgets\n",
            "1  Smartphone    500      2  Tech Gadgets\n",
            "2      Tablet    300      3  Tech Gadgets\n"
          ]
        }
      ]
    },
    {
      "cell_type": "code",
      "source": [
        "# How to Standardise Numeric Fields Using R/Python\n",
        "'''\n",
        "The StandardScaler class from the sklearn.preprocessing module is used for standardizing numerical data.\n",
        "Standardization ensures that the mean of the data becomes 0 and the standard deviation becomes 1.\n",
        "'''\n",
        "from sklearn.preprocessing import StandardScaler\n",
        "\n",
        "# Standardizing numeric fields\n",
        "scaler = StandardScaler() # An instance of the StandardScaler is created.\n",
        "df['Standardized_Price'] = scaler.fit_transform(df[['Price']]) # fit calculates the mean and standard deviation for the Price column.\n",
        "print(df)\n"
      ],
      "metadata": {
        "colab": {
          "base_uri": "https://localhost:8080/"
        },
        "id": "hjMXxI1g92HH",
        "outputId": "8a71d3ca-45a3-4322-af80-9a503e7c8501"
      },
      "execution_count": 5,
      "outputs": [
        {
          "output_type": "stream",
          "name": "stdout",
          "text": [
            "      Product  Price  Index      Category  Standardized_Price\n",
            "0      Laptop   1000      1  Tech Gadgets            1.358732\n",
            "1  Smartphone    500      2  Tech Gadgets           -0.339683\n",
            "2      Tablet    300      3  Tech Gadgets           -1.019049\n"
          ]
        }
      ]
    },
    {
      "cell_type": "code",
      "source": [
        "# How to Identify Outliers Using R/Python\n",
        "# An outlier is a data point that differs significantly from other observations in a dataset.\n",
        "\n",
        "# Detecting outliers\n",
        "Q1 = df['Price'].quantile(0.25) # First quartile (25th percentile)\n",
        "Q3 = df['Price'].quantile(0.75) # Third quartile (75th percentile)\n",
        "IQR = Q3 - Q1 # Interquartile Range\n",
        "\n",
        "# Identifying outliers\n",
        "df['Outlier'] = (df['Price'] < (Q1 - 1.5 * IQR)) | (df['Price'] > (Q3 + 1.5 * IQR))\n",
        "print(df)\n"
      ],
      "metadata": {
        "colab": {
          "base_uri": "https://localhost:8080/"
        },
        "id": "t0-YAcJw99Hf",
        "outputId": "73eb88e1-0ae2-469e-c911-21a9bfd4c2ce"
      },
      "execution_count": 6,
      "outputs": [
        {
          "output_type": "stream",
          "name": "stdout",
          "text": [
            "      Product  Price  Index      Category  Standardized_Price  Outlier\n",
            "0      Laptop   1000      1  Tech Gadgets            1.358732    False\n",
            "1  Smartphone    500      2  Tech Gadgets           -0.339683    False\n",
            "2      Tablet    300      3  Tech Gadgets           -1.019049    False\n"
          ]
        }
      ]
    },
    {
      "cell_type": "code",
      "source": [
        "# Matplotlib is a Python library used for creating static, animated, and interactive visualizations in Python.\n",
        "# It is widely used for plotting graphs such as line plots, bar charts, histograms, scatter plots, etc.\n",
        "\n",
        "# NumPy is a library in Python for numerical operations."
      ],
      "metadata": {
        "id": "oRYc-n8YEkNg"
      },
      "execution_count": null,
      "outputs": []
    },
    {
      "cell_type": "code",
      "source": [
        "# How to construct a bar graph with overlay\n",
        "import matplotlib.pyplot as plt\n",
        "import numpy as np\n",
        "\n",
        "# Categories and their values for two groups\n",
        "categories = ['A', 'B', 'C']\n",
        "values_group1 = [10, 20, 15]\n",
        "values_group2 = [12, 18, 10]\n",
        "\n",
        "# Position of bars on the x-axis\n",
        "x = np.arange(len(categories)) #  This line creates an array of positions for the bars on the x-axis. For each category\n",
        "\n",
        "# Plot bars for Group 1 and Group 2\n",
        "plt.bar(x - 0.2, values_group1, width=0.4, label='Group 1', color='blue')  # Shift left by 0.2\n",
        "plt.bar(x + 0.2, values_group2, width=0.4, label='Group 2', color='orange')  # Shift right by 0.2\n",
        "\n",
        "# Add category labels, title, and legend\n",
        "plt.xticks(x, categories)\n",
        "plt.xlabel('Categories')\n",
        "plt.ylabel('Values')\n",
        "plt.title('Bar Graph with Overlay')\n",
        "plt.legend()\n",
        "\n",
        "# Display the graph\n",
        "plt.show()\n",
        "\n"
      ],
      "metadata": {
        "colab": {
          "base_uri": "https://localhost:8080/",
          "height": 472
        },
        "id": "e7_ROP_wD8dj",
        "outputId": "d3fdbd21-bd9b-43bb-f75b-d78016db57b7"
      },
      "execution_count": 7,
      "outputs": [
        {
          "output_type": "display_data",
          "data": {
            "text/plain": [
              "<Figure size 640x480 with 1 Axes>"
            ],
            "image/png": "[encoded data removed]"
          },
          "metadata": {}
        }
      ]
    },
    {
      "cell_type": "code",
      "source": [
        "# How to Construct Contingency Tables Using R/Python\n",
        "# A contingency table is a type of table used in statistics to summarize the relationship between two categorical variables.\n",
        "import pandas as pd\n",
        "\n",
        "# Sample data\n",
        "data = {'Category': ['A', 'B', 'A', 'C', 'B'],  # Categories\n",
        "        'Outcome': ['Pass', 'Fail', 'Pass', 'Fail', 'Pass']}  # Outcomes\n",
        "\n",
        "# Create a DataFrame\n",
        "df = pd.DataFrame(data)\n",
        "\n",
        "# Create a contingency table showing counts for each category and outcome\n",
        "contingency_table = pd.crosstab(df['Category'], df['Outcome']) # shows the relationship between two categorical variables\n",
        "\n",
        "# Print the table\n",
        "print(contingency_table)\n"
      ],
      "metadata": {
        "colab": {
          "base_uri": "https://localhost:8080/"
        },
        "id": "4HbZheiVEOOZ",
        "outputId": "4d869895-32c3-47d0-98e6-621ed75b3fb0"
      },
      "execution_count": 8,
      "outputs": [
        {
          "output_type": "stream",
          "name": "stdout",
          "text": [
            "Outcome   Fail  Pass\n",
            "Category            \n",
            "A            0     2\n",
            "B            1     1\n",
            "C            1     0\n"
          ]
        }
      ]
    },
    {
      "cell_type": "code",
      "source": [
        "#How to Construct Histograms with Overlay Using R/Python\n",
        "\n",
        "import matplotlib.pyplot as plt\n",
        "\n",
        "# Two datasets\n",
        "data_group1 = [10, 20, 20, 30, 40]\n",
        "data_group2 = [15, 25, 25, 35, 45]\n",
        "\n",
        "# Plot histograms for both datasets\n",
        "plt.hist(data_group1, bins=5, alpha=0.5, label='Group 1', color='blue')  # Group 1 in blue\n",
        "plt.hist(data_group2, bins=5, alpha=0.5, label='Group 2', color='orange')  # Group 2 in orangep\n",
        "\n",
        "# Add labels, title, and legend\n",
        "plt.xlabel('Values')\n",
        "plt.ylabel('Frequency')\n",
        "plt.title('Histograms with Overlay')\n",
        "plt.legend()\n",
        "\n",
        "# Display the histogram\n",
        "plt.show()\n"
      ],
      "metadata": {
        "colab": {
          "base_uri": "https://localhost:8080/",
          "height": 472
        },
        "id": "LWn9cermETsY",
        "outputId": "19f04608-73e7-4277-8c2c-5a95ff632453"
      },
      "execution_count": 10,
      "outputs": [
        {
          "output_type": "display_data",
          "data": {
            "text/plain": [
              "<Figure size 640x480 with 1 Axes>"
            ],
            "image/png": "[encoded data removed]"
          },
          "metadata": {}
        }
      ]
    },
    {
      "cell_type": "code",
      "source": [
        "#  How to Perform Binning Based on Predictive Value Using R/Python\n",
        "import pandas as pd\n",
        "\n",
        "# Sample data\n",
        "data = {'Age': [25, 32, 40, 50, 60],  # Ages\n",
        "        'Outcome': [1, 0, 1, 0, 1]}  # Binary outcomes (e.g., pass/fail)\n",
        "df = pd.DataFrame(data)\n",
        "\n",
        "# Define bins and labels\n",
        "bins = [20, 30, 40, 50, 60]  # Age ranges\n",
        "labels = ['20-30', '30-40', '40-50', '50-60']  # Labels for the bins\n",
        "\n",
        "# Create a new column with binned data\n",
        "df['Age_Bin'] = pd.cut(df['Age'], bins=bins, labels=labels)\n",
        "\n",
        "# Print the updated DataFrame\n",
        "print(df)\n"
      ],
      "metadata": {
        "colab": {
          "base_uri": "https://localhost:8080/"
        },
        "id": "kEjimpTVEXwP",
        "outputId": "692d3fe0-49c7-4bf1-9dc3-708387d7de6b"
      },
      "execution_count": 11,
      "outputs": [
        {
          "output_type": "stream",
          "name": "stdout",
          "text": [
            "   Age  Outcome Age_Bin\n",
            "0   25        1   20-30\n",
            "1   32        0   30-40\n",
            "2   40        1   30-40\n",
            "3   50        0   40-50\n",
            "4   60        1   50-60\n"
          ]
        }
      ]
    },
    {
      "cell_type": "code",
      "source": [
        "from sklearn.model_selection import train_test_split\n",
        "\n",
        "# Features (X) and target (y)\n",
        "X = df.drop('Outcome', axis=1)  # Drop target column from features\n",
        "y = df['Outcome']  # Target column\n",
        "\n",
        "# Split data into training (80%) and testing (20%)\n",
        "X_train, X_test, y_train, y_test = train_test_split(X, y, test_size=0.2, random_state=42)\n",
        "\n",
        "# Print sizes of train and test sets\n",
        "print(X_train.shape, X_test.shape)\n"
      ],
      "metadata": {
        "colab": {
          "base_uri": "https://localhost:8080/"
        },
        "id": "nwMm_cIVJCNJ",
        "outputId": "5375a9a9-2949-4eb8-f832-fb9e70a8e222"
      },
      "execution_count": 12,
      "outputs": [
        {
          "output_type": "stream",
          "name": "stdout",
          "text": [
            "(4, 2) (1, 2)\n"
          ]
        }
      ]
    },
    {
      "cell_type": "markdown",
      "source": [
        "*X = df.drop('Outcome', axis=1): * Here, X represents the features (inputs) of the dataset, which is everything except the target variable (Outcome).\n",
        "\n",
        "y = df['Outcome']: y represents the target variable (the value we are trying to predict), in this case, \"Outcome\".\n",
        "\n",
        "train_test_split(X, y, test_size=0.2, random_state=42): This splits the data into two parts: 80% for training (X_train, y_train) and 20% for testing (X_test, y_test).\n",
        "\n",
        "random_state=42: Ensures the split is reproducible, so you get the same result every time you run the code.\n",
        "\n",
        "print(X_train.shape, X_test.shape): This prints the size of the training and testing sets, confirming the split."
      ],
      "metadata": {
        "id": "592SDZ7OJMdm"
      }
    },
    {
      "cell_type": "code",
      "source": [
        "# How to Balance the Training Data Set R/Python\n",
        "from imblearn.over_sampling import SMOTE\n",
        "\n",
        "# Create SMOTE object to oversample minority class\n",
        "smote = SMOTE(random_state=42)\n",
        "\n",
        "# Balance the data\n",
        "X_resampled, y_resampled = smote.fit_resample(X_train, y_train)\n",
        "\n",
        "# Print class distribution after balancing\n",
        "print(y_resampled.value_counts())\n"
      ],
      "metadata": {
        "id": "gK2pHQhJJjbm"
      },
      "execution_count": null,
      "outputs": []
    },
    {
      "cell_type": "markdown",
      "source": [
        "from imblearn.over_sampling import SMOTE: Imports the SMOTE class from the imblearn library, which is used to balance imbalanced datasets by generating synthetic data for the minority class.\n",
        "\n",
        "smote = SMOTE(random_state=42): Creates a SMOTE object. The random_state ensures reproducibility.\n",
        "\n",
        "X_resampled, y_resampled = smote.fit_resample(X_train, y_train): This applies the SMOTE algorithm to the training data (X_train, y_train) to generate new synthetic samples for the minority class and balance the class distribution.\n",
        "\n",
        "\n",
        "print(y_resampled.value_counts()): Prints the new distribution of classes in the training data after balancing, so you can check if the classes are now balanced."
      ],
      "metadata": {
        "id": "zyti8q7bJrbn"
      }
    },
    {
      "cell_type": "code",
      "source": [
        "# How to Build CART Decision Trees Using R/Python\n",
        "from sklearn.tree import DecisionTreeClassifier\n",
        "\n",
        "# Initialize and train CART model\n",
        "cart_model = DecisionTreeClassifier(random_state=42)\n",
        "cart_model.fit(X_resampled, y_resampled)\n",
        "\n",
        "# Predict using the test data\n",
        "y_pred_cart = cart_model.predict(X_test)\n",
        "\n",
        "# Print accuracy of CART model\n",
        "from sklearn.metrics import accuracy_score\n",
        "print(f'CART Accuracy: {accuracy_score(y_test, y_pred_cart)}')\n"
      ],
      "metadata": {
        "id": "W1ZoMAuuJvpe"
      },
      "execution_count": null,
      "outputs": []
    },
    {
      "cell_type": "markdown",
      "source": [
        "from sklearn.tree import DecisionTreeClassifier: Imports the DecisionTreeClassifier class, which is used to create a decision tree model for classification.\n",
        "\n",
        "cart_model = DecisionTreeClassifier(random_state=42): Creates an instance of the DecisionTreeClassifier model with a fixed random state for reproducibility.\n",
        "\n",
        "cart_model.fit(X_resampled, y_resampled): Trains the model using the resampled (balanced) training data.\n",
        "\n",
        "y_pred_cart = cart_model.predict(X_test): Uses the trained model to predict the target (Outcome) for the test data (X_test).\n",
        "\n",
        "accuracy_score(y_test, y_pred_cart): Calculates the accuracy of the model by comparing the predictions (y_pred_cart) with the actual values (y_test).\n",
        "\n",
        "print(f'CART Accuracy: {accuracy_score(y_test, y_pred_cart)}'): Prints the accuracy of the CART decision tree model on the test data."
      ],
      "metadata": {
        "id": "BvUv58zLJ4vZ"
      }
    },
    {
      "cell_type": "code",
      "source": [
        "# How to Build C5.0 Decision Trees Using R/Python\n",
        "import pyC5.0\n",
        "\n",
        "# Initialize C5.0 model\n",
        "c5_model = pyC5.0.C5_0()\n",
        "\n",
        "# Train the C5.0 model\n",
        "c5_model.fit(X_resampled, y_resampled)\n",
        "\n",
        "# Predict using the test data\n",
        "y_pred_c5 = c5_model.predict(X_test)\n",
        "\n",
        "# Print accuracy of C5.0 model\n",
        "print(f'C5.0 Accuracy: {accuracy_score(y_test, y_pred_c5)}')\n"
      ],
      "metadata": {
        "id": "XRaiCdjlJ-OO"
      },
      "execution_count": null,
      "outputs": []
    },
    {
      "cell_type": "markdown",
      "source": [
        "import pyC5.0: Imports the pyC5.0 package, which is used to build C5.0 decision trees.\n",
        "\n",
        "c5_model = pyC5.0.C5_0(): Creates an instance of the C5.0 decision tree model.\n",
        "\n",
        "c5_model.fit(X_resampled, y_resampled): Trains the C5.0 model using the balanced training data.\n",
        "\n",
        "y_pred_c5 = c5_model.predict(X_test): Uses the trained C5.0 model to predict the target (Outcome) for the test data.\n",
        "\n",
        "accuracy_score(y_test, y_pred_c5): Calculates the accuracy of the C5.0 model by comparing predictions with the actual test data.\n",
        "\n",
        "print(f'C5.0 Accuracy: {accuracy_score(y_test, y_pred_c5)}'): Prints the accuracy of the C5.0 model on the test data."
      ],
      "metadata": {
        "id": "etGG-oLMKE7O"
      }
    },
    {
      "cell_type": "code",
      "source": [
        "#  How to Build Random Forests R/Python\n",
        "from sklearn.ensemble import RandomForestClassifier\n",
        "\n",
        "# Initialize and train Random Forest model\n",
        "rf_model = RandomForestClassifier(n_estimators=100, random_state=42)\n",
        "rf_model.fit(X_resampled, y_resampled)\n",
        "\n",
        "# Predict using the test data\n",
        "y_pred_rf = rf_model.predict(X_test)\n",
        "\n",
        "# Print accuracy of Random Forest model\n",
        "print(f'Random Forest Accuracy: {accuracy_score(y_test, y_pred_rf)}')\n"
      ],
      "metadata": {
        "id": "qBkq56MqKImu"
      },
      "execution_count": 15,
      "outputs": []
    },
    {
      "cell_type": "markdown",
      "source": [
        "from sklearn.ensemble import RandomForestClassifier: Imports the RandomForestClassifier class, which is used to create a random forest model (an ensemble of decision trees).\n",
        "\n",
        "rf_model = RandomForestClassifier(n_estimators=100, random_state=42): Creates an instance of the RandomForestClassifier with 100 trees (n_estimators=100) and a fixed random state for reproducibility.\n",
        "\n",
        "rf_model.fit(X_resampled, y_resampled): Trains the random forest model using the balanced training data.\n",
        "\n",
        "y_pred_rf = rf_model.predict(X_test): Uses the trained random forest model to predict the target (Outcome) for the test data.\n",
        "\n",
        "accuracy_score(y_test, y_pred_rf): Calculates the accuracy of the random forest model by comparing the predictions with the actual values from the test data.\n",
        "\n",
        "print(f'Random Forest Accuracy: {accuracy_score(y_test, y_pred_rf)}'): Prints the accuracy of the random forest model on the test data."
      ],
      "metadata": {
        "id": "h40220A-KMv_"
      }
    },
    {
      "cell_type": "code",
      "source": [
        "# How to Perform Model Evaluation Using R/Python\n",
        "from sklearn.metrics import accuracy_score, classification_report, confusion_matrix\n",
        "\n",
        "# Assuming y_test and y_pred are the true labels and predicted labels\n",
        "y_test = [1, 0, 1, 1, 0]  # Example actual labels\n",
        "y_pred = [1, 0, 1, 0, 0]  # Example predicted labels\n",
        "\n",
        "# Calculate accuracy\n",
        "accuracy = accuracy_score(y_test, y_pred) # y_test is the actual target values (true labels), and y_pred is the predicted values from the model\n",
        "print(f'Accuracy: {accuracy}')\n",
        "\n",
        "# Detailed evaluation\n",
        "print(f'Classification Report: \\n{classification_report(y_test, y_pred)}')\n",
        "\n",
        "# Confusion Matrix\n",
        "print(f'Confusion Matrix: \\n{confusion_matrix(y_test, y_pred)}')\n"
      ],
      "metadata": {
        "colab": {
          "base_uri": "https://localhost:8080/"
        },
        "id": "EvIO053tMSdH",
        "outputId": "514573ec-a046-4abb-95ca-7dee34ec923d"
      },
      "execution_count": 16,
      "outputs": [
        {
          "output_type": "stream",
          "name": "stdout",
          "text": [
            "Accuracy: 0.8\n",
            "Classification Report: \n",
            "              precision    recall  f1-score   support\n",
            "\n",
            "           0       0.67      1.00      0.80         2\n",
            "           1       1.00      0.67      0.80         3\n",
            "\n",
            "    accuracy                           0.80         5\n",
            "   macro avg       0.83      0.83      0.80         5\n",
            "weighted avg       0.87      0.80      0.80         5\n",
            "\n",
            "Confusion Matrix: \n",
            "[[2 0]\n",
            " [1 2]]\n"
          ]
        }
      ]
    },
    {
      "cell_type": "markdown",
      "source": [
        " The confusion_matrix(y_test, y_pred) function from sklearn.metrics generates a 2x2 matrix that shows the performance of the classification model."
      ],
      "metadata": {
        "id": "ALKVAEAeNNA1"
      }
    },
    {
      "cell_type": "code",
      "source": [
        "# Accounting for Unequal Error Costs Using R/Python\n",
        "# Helps compute the error costs based on actual vs. predicted results.\n",
        "from sklearn.metrics import confusion_matrix\n",
        "y_test = [1, 0, 1, 1, 0]  # Example actual labels\n",
        "y_pred = [1, 0, 1, 0, 0]  # Example predicted labels\n",
        "# (more cost for false positives)\n",
        "conf_matrix = confusion_matrix(y_test, y_pred) # y_test is the actual target values (true labels), and y_pred is the predicted values from the model.\n",
        "\n",
        "# Cost of False Positives and False Negatives\n",
        "cost_false_positive = 2\n",
        "cost_false_negative = 3\n",
        "\n",
        "# Calculate total cost\n",
        "total_cost = (conf_matrix[0, 1] * cost_false_positive) + (conf_matrix[1, 0] * cost_false_negative)\n",
        "print(f'Total Cost of Errors: {total_cost}')\n"
      ],
      "metadata": {
        "colab": {
          "base_uri": "https://localhost:8080/"
        },
        "id": "735K6KjXMWiN",
        "outputId": "bb0c607f-f815-48c2-ead1-555d81fd310b"
      },
      "execution_count": 17,
      "outputs": [
        {
          "output_type": "stream",
          "name": "stdout",
          "text": [
            "Total Cost of Errors: 3\n"
          ]
        }
      ]
    },
    {
      "cell_type": "code",
      "source": [
        "# Naive Bayes Classification\n",
        "\n",
        "# Import necessary libraries\n",
        "from sklearn.feature_extraction.text import CountVectorizer #Converts the text data into numerical format (bag-of-words representation).\n",
        "from sklearn.naive_bayes import MultinomialNB #  The Naïve Bayes classifier (specifically for text classification).\n",
        "from sklearn.model_selection import train_test_split # Splits the data into training and testing sets.\n",
        "from sklearn.metrics import accuracy_score # Computes the accuracy of the model.\n",
        "\n",
        "# Sample dataset of text data (X) and corresponding labels ()\n",
        "X = [\"I love programming\", \"Python is great\", \"yI hate bugs\", \"Coding is fun\", \"I love solving problems\", \"Debugging is difficult\"]\n",
        "y = ['positive', 'positive', 'negative', 'positive', 'positive', 'negative']\n",
        "\n",
        "# Step 1: Convert text data to numerical features using CountVectorizer\n",
        "vectorizer = CountVectorizer()\n",
        "X_vectorized = vectorizer.fit_transform(X) # learns the vocabulary from X and transforms the text into a sparse matrix of word counts.\n",
        "\n",
        "# Step 2: Split the data into training and testing sets\n",
        "X_train, X_test, y_train, y_test = train_test_split(X_vectorized, y, test_size=0.2, random_state=42)\n",
        " #The data is split into training and testing sets, with 80% of the data used for training and 20% for testing.\n",
        "\n",
        "# Step 3: Initialize and train the Naïve Bayes classifier\n",
        "classifier = MultinomialNB()\n",
        "classifier.fit(X_train, y_train)\n",
        "\n",
        "# Step 4: Make predictions on the test data\n",
        "y_pred = classifier.predict(X_test)\n",
        "\n",
        "# Step 5: Evaluate the classifier's performance using accuracy\n",
        "accuracy = accuracy_score(y_test, y_pred)\n",
        "print(f'Accuracy: {accuracy * 100:.2f}%')\n",
        "\n",
        "# Step 6: Predict the label of a new text\n",
        "new_text = [\"I hate coding in Python\"]\n",
        "new_text_vectorized = vectorizer.transform(new_text) #converts the new text into the same format (vectorized) as the training data.\n",
        "new_prediction = classifier.predict(new_text_vectorized)\n",
        "print(f\"Prediction for new text: {new_prediction[0]}\")\n"
      ],
      "metadata": {
        "colab": {
          "base_uri": "https://localhost:8080/"
        },
        "id": "g9vMtM5JPtgG",
        "outputId": "2e37a2ed-7aa3-44d9-af56-64f22daa2c87"
      },
      "execution_count": 19,
      "outputs": [
        {
          "output_type": "stream",
          "name": "stdout",
          "text": [
            "Accuracy: 50.00%\n",
            "Prediction for new text: negative\n"
          ]
        }
      ]
    },
    {
      "cell_type": "code",
      "source": [
        "pip install tensorflow\n"
      ],
      "metadata": {
        "colab": {
          "base_uri": "https://localhost:8080/"
        },
        "collapsed": true,
        "id": "-QE_0lBTUPc4",
        "outputId": "c8abd6d9-92f0-4e10-f0c6-b9b1d6ad36de"
      },
      "execution_count": 20,
      "outputs": [
        {
          "output_type": "stream",
          "name": "stdout",
          "text": [
            "Requirement already satisfied: tensorflow in /usr/local/lib/python3.10/dist-packages (2.17.1)\n",
            "Requirement already satisfied: absl-py>=1.0.0 in /usr/local/lib/python3.10/dist-packages (from tensorflow) (1.4.0)\n",
            "Requirement already satisfied: astunparse>=1.6.0 in /usr/local/lib/python3.10/dist-packages (from tensorflow) (1.6.3)\n",
            "Requirement already satisfied: flatbuffers>=24.3.25 in /usr/local/lib/python3.10/dist-packages (from tensorflow) (24.3.25)\n",
            "Requirement already satisfied: gast!=0.5.0,!=0.5.1,!=0.5.2,>=0.2.1 in /usr/local/lib/python3.10/dist-packages (from tensorflow) (0.6.0)\n",
            "Requirement already satisfied: google-pasta>=0.1.1 in /usr/local/lib/python3.10/dist-packages (from tensorflow) (0.2.0)\n",
            "Requirement already satisfied: h5py>=3.10.0 in /usr/local/lib/python3.10/dist-packages (from tensorflow) (3.12.1)\n",
            "Requirement already satisfied: libclang>=13.0.0 in /usr/local/lib/python3.10/dist-packages (from tensorflow) (18.1.1)\n",
            "Requirement already satisfied: ml-dtypes<0.5.0,>=0.3.1 in /usr/local/lib/python3.10/dist-packages (from tensorflow) (0.4.1)\n",
            "Requirement already satisfied: opt-einsum>=2.3.2 in /usr/local/lib/python3.10/dist-packages (from tensorflow) (3.4.0)\n",
            "Requirement already satisfied: packaging in /usr/local/lib/python3.10/dist-packages (from tensorflow) (24.2)\n",
            "Requirement already satisfied: protobuf!=4.21.0,!=4.21.1,!=4.21.2,!=4.21.3,!=4.21.4,!=4.21.5,<5.0.0dev,>=3.20.3 in /usr/local/lib/python3.10/dist-packages (from tensorflow) (4.25.5)\n",
            "Requirement already satisfied: requests<3,>=2.21.0 in /usr/local/lib/python3.10/dist-packages (from tensorflow) (2.32.3)\n",
            "Requirement already satisfied: setuptools in /usr/local/lib/python3.10/dist-packages (from tensorflow) (75.1.0)\n",
            "Requirement already satisfied: six>=1.12.0 in /usr/local/lib/python3.10/dist-packages (from tensorflow) (1.16.0)\n",
            "Requirement already satisfied: termcolor>=1.1.0 in /usr/local/lib/python3.10/dist-packages (from tensorflow) (2.5.0)\n",
            "Requirement already satisfied: typing-extensions>=3.6.6 in /usr/local/lib/python3.10/dist-packages (from tensorflow) (4.12.2)\n",
            "Requirement already satisfied: wrapt>=1.11.0 in /usr/local/lib/python3.10/dist-packages (from tensorflow) (1.16.0)\n",
            "Requirement already satisfied: grpcio<2.0,>=1.24.3 in /usr/local/lib/python3.10/dist-packages (from tensorflow) (1.68.0)\n",
            "Requirement already satisfied: tensorboard<2.18,>=2.17 in /usr/local/lib/python3.10/dist-packages (from tensorflow) (2.17.1)\n",
            "Requirement already satisfied: keras>=3.2.0 in /usr/local/lib/python3.10/dist-packages (from tensorflow) (3.5.0)\n",
            "Requirement already satisfied: tensorflow-io-gcs-filesystem>=0.23.1 in /usr/local/lib/python3.10/dist-packages (from tensorflow) (0.37.1)\n",
            "Requirement already satisfied: numpy<2.0.0,>=1.23.5 in /usr/local/lib/python3.10/dist-packages (from tensorflow) (1.26.4)\n",
            "Requirement already satisfied: wheel<1.0,>=0.23.0 in /usr/local/lib/python3.10/dist-packages (from astunparse>=1.6.0->tensorflow) (0.45.0)\n",
            "Requirement already satisfied: rich in /usr/local/lib/python3.10/dist-packages (from keras>=3.2.0->tensorflow) (13.9.4)\n",
            "Requirement already satisfied: namex in /usr/local/lib/python3.10/dist-packages (from keras>=3.2.0->tensorflow) (0.0.8)\n",
            "Requirement already satisfied: optree in /usr/local/lib/python3.10/dist-packages (from keras>=3.2.0->tensorflow) (0.13.1)\n",
            "Requirement already satisfied: charset-normalizer<4,>=2 in /usr/local/lib/python3.10/dist-packages (from requests<3,>=2.21.0->tensorflow) (3.4.0)\n",
            "Requirement already satisfied: idna<4,>=2.5 in /usr/local/lib/python3.10/dist-packages (from requests<3,>=2.21.0->tensorflow) (3.10)\n",
            "Requirement already satisfied: urllib3<3,>=1.21.1 in /usr/local/lib/python3.10/dist-packages (from requests<3,>=2.21.0->tensorflow) (2.2.3)\n",
            "Requirement already satisfied: certifi>=2017.4.17 in /usr/local/lib/python3.10/dist-packages (from requests<3,>=2.21.0->tensorflow) (2024.8.30)\n",
            "Requirement already satisfied: markdown>=2.6.8 in /usr/local/lib/python3.10/dist-packages (from tensorboard<2.18,>=2.17->tensorflow) (3.7)\n",
            "Requirement already satisfied: tensorboard-data-server<0.8.0,>=0.7.0 in /usr/local/lib/python3.10/dist-packages (from tensorboard<2.18,>=2.17->tensorflow) (0.7.2)\n",
            "Requirement already satisfied: werkzeug>=1.0.1 in /usr/local/lib/python3.10/dist-packages (from tensorboard<2.18,>=2.17->tensorflow) (3.1.3)\n",
            "Requirement already satisfied: MarkupSafe>=2.1.1 in /usr/local/lib/python3.10/dist-packages (from werkzeug>=1.0.1->tensorboard<2.18,>=2.17->tensorflow) (3.0.2)\n",
            "Requirement already satisfied: markdown-it-py>=2.2.0 in /usr/local/lib/python3.10/dist-packages (from rich->keras>=3.2.0->tensorflow) (3.0.0)\n",
            "Requirement already satisfied: pygments<3.0.0,>=2.13.0 in /usr/local/lib/python3.10/dist-packages (from rich->keras>=3.2.0->tensorflow) (2.18.0)\n",
            "Requirement already satisfied: mdurl~=0.1 in /usr/local/lib/python3.10/dist-packages (from markdown-it-py>=2.2.0->rich->keras>=3.2.0->tensorflow) (0.1.2)\n"
          ]
        }
      ]
    },
    {
      "cell_type": "code",
      "source": [
        "import tensorflow as tf\n",
        "print(tf.__version__)\n"
      ],
      "metadata": {
        "collapsed": true,
        "colab": {
          "base_uri": "https://localhost:8080/"
        },
        "id": "VUSL7yx6UbFO",
        "outputId": "0ce4ab9c-1e13-4f07-c103-2f54c249ca52"
      },
      "execution_count": 21,
      "outputs": [
        {
          "output_type": "stream",
          "name": "stdout",
          "text": [
            "2.17.1\n"
          ]
        }
      ]
    },
    {
      "cell_type": "code",
      "source": [
        "# Neural Network\n",
        "# Step 1: Import necessary libraries\n",
        "from tensorflow.keras.models import Sequential #Used to define a simple feed-forward neural network where layers are stacked in sequence.\n",
        "from tensorflow.keras.layers import Dense # A layer in the neural network where each neuron is connected to every neuron in the previous layer.\n",
        "from sklearn.model_selection import train_test_split\n",
        "from sklearn.datasets import make_classification #A function from sklearn to create a simple classification dataset.\n",
        "\n",
        "# Step 2: Generate a simple dataset (for classification)\n",
        "X, y = make_classification(n_samples=1000, n_features=20, n_classes=2, random_state=42)\n",
        "\n",
        "# Step 3: Split the data into training and testing sets\n",
        "X_train, X_test, y_train, y_test = train_test_split(X, y, test_size=0.2, random_state=42)\n",
        "\n",
        "# Step 4: Build a Neural Network model\n",
        "model = Sequential() # : Initializes a linear stack of layers.\n",
        "\n",
        "# Add an input layer (20 input features)\n",
        "model.add(Dense(units=64, activation='relu', input_dim=20)) #  Adds the first layer with 64 neurons, using the ReLU activation function, and expecting 20 input features.\n",
        "\n",
        "# Add a hidden layer with 32 neurons\n",
        "model.add(Dense(units=32, activation='relu')) # Adds a hidden layer\n",
        "\n",
        "# Add an output layer with 1 neuron (binary classification: 0 or 1)\n",
        "model.add(Dense(units=1, activation='sigmoid'))\n",
        "\n",
        "# Step 5: Compile the model\n",
        "model.compile(optimizer='adam', loss='binary_crossentropy', metrics=['accuracy']) # Specifies the optimization algorithm\n",
        "#A loss function used for binary classification tasks\n",
        "# Specifies that the model should track accuracy as a performance metric during training.\n",
        "\n",
        "\n",
        "# Step 6: Train the model on the training data\n",
        "model.fit(X_train, y_train, epochs=10, batch_size=32)\n",
        "# Epochs in machine learning refer to the number of times the entire training dataset is passed through the model during the training process\n",
        "\n",
        "# Step 7: Evaluate the model on the test data\n",
        "loss, accuracy = model.evaluate(X_test, y_test)\n",
        "print(f\"Test Accuracy: {accuracy * 100:.2f}%\")\n",
        "\n",
        "\n",
        "# it will display the progress of the training for each epoch.\n",
        "# Epoch x/10: Shows the current epoch and the total number of epochs.\n"
      ],
      "metadata": {
        "colab": {
          "base_uri": "https://localhost:8080/"
        },
        "id": "gvFDicOJUCaN",
        "outputId": "2e5c0ae8-abe6-4098-9b80-680ad93d3ce2"
      },
      "execution_count": 24,
      "outputs": [
        {
          "output_type": "stream",
          "name": "stdout",
          "text": [
            "Epoch 1/10\n",
            "\u001b[1m25/25\u001b[0m \u001b[32m━━━━━━━━━━━━━━━━━━━━\u001b[0m\u001b[37m\u001b[0m \u001b[1m1s\u001b[0m 1ms/step - accuracy: 0.5984 - loss: 0.6640\n",
            "Epoch 2/10\n",
            "\u001b[1m25/25\u001b[0m \u001b[32m━━━━━━━━━━━━━━━━━━━━\u001b[0m\u001b[37m\u001b[0m \u001b[1m0s\u001b[0m 1ms/step - accuracy: 0.8137 - loss: 0.4992 \n",
            "Epoch 3/10\n",
            "\u001b[1m25/25\u001b[0m \u001b[32m━━━━━━━━━━━━━━━━━━━━\u001b[0m\u001b[37m\u001b[0m \u001b[1m0s\u001b[0m 1ms/step - accuracy: 0.8646 - loss: 0.3870  \n",
            "Epoch 4/10\n",
            "\u001b[1m25/25\u001b[0m \u001b[32m━━━━━━━━━━━━━━━━━━━━\u001b[0m\u001b[37m\u001b[0m \u001b[1m0s\u001b[0m 1ms/step - accuracy: 0.8667 - loss: 0.3695  \n",
            "Epoch 5/10\n",
            "\u001b[1m25/25\u001b[0m \u001b[32m━━━━━━━━━━━━━━━━━━━━\u001b[0m\u001b[37m\u001b[0m \u001b[1m0s\u001b[0m 2ms/step - accuracy: 0.8760 - loss: 0.3131  \n",
            "Epoch 6/10\n",
            "\u001b[1m25/25\u001b[0m \u001b[32m━━━━━━━━━━━━━━━━━━━━\u001b[0m\u001b[37m\u001b[0m \u001b[1m0s\u001b[0m 2ms/step - accuracy: 0.8868 - loss: 0.2717 \n",
            "Epoch 7/10\n",
            "\u001b[1m25/25\u001b[0m \u001b[32m━━━━━━━━━━━━━━━━━━━━\u001b[0m\u001b[37m\u001b[0m \u001b[1m0s\u001b[0m 2ms/step - accuracy: 0.8861 - loss: 0.2772  \n",
            "Epoch 8/10\n",
            "\u001b[1m25/25\u001b[0m \u001b[32m━━━━━━━━━━━━━━━━━━━━\u001b[0m\u001b[37m\u001b[0m \u001b[1m0s\u001b[0m 1ms/step - accuracy: 0.8913 - loss: 0.2811  \n",
            "Epoch 9/10\n",
            "\u001b[1m25/25\u001b[0m \u001b[32m━━━━━━━━━━━━━━━━━━━━\u001b[0m\u001b[37m\u001b[0m \u001b[1m0s\u001b[0m 2ms/step - accuracy: 0.8914 - loss: 0.2808 \n",
            "Epoch 10/10\n",
            "\u001b[1m25/25\u001b[0m \u001b[32m━━━━━━━━━━━━━━━━━━━━\u001b[0m\u001b[37m\u001b[0m \u001b[1m0s\u001b[0m 2ms/step - accuracy: 0.8853 - loss: 0.2620  \n",
            "\u001b[1m7/7\u001b[0m \u001b[32m━━━━━━━━━━━━━━━━━━━━\u001b[0m\u001b[37m\u001b[0m \u001b[1m0s\u001b[0m 3ms/step - accuracy: 0.8038 - loss: 0.4124  \n",
            "Test Accuracy: 83.00%\n"
          ]
        }
      ]
    },
    {
      "cell_type": "code",
      "source": [
        "# Step 1: Import necessary libraries\n",
        "import numpy as np\n",
        "import matplotlib.pyplot as plt\n",
        "from sklearn.cluster import KMeans # provides the k-Means clustering implementation.\n",
        "from sklearn.datasets import make_blobs # generates synthetic data for demonstration.\n",
        "\n",
        "# Step 2: Generate sample data\n",
        "# Creating a dataset with 2 features and 3 clusters\n",
        "data, true_labels = make_blobs(n_samples=300, centers=3, cluster_std=1.0, random_state=42) # reates a dataset with 300 samples, 2 features, and 3 distinct clusters.\n",
        "\n",
        "# Step 3: Visualize the raw data\n",
        "# data[:, 0] : selects all rows and the first column\n",
        "# data[:, 1[ : selects all rows and the second column\n",
        "# s = 50 ,size of each point\n",
        "plt.scatter(data[:, 0], data[:, 1], s=50, cmap='viridis')\n",
        "plt.title(\"Raw Data (Unlabeled)\")\n",
        "plt.xlabel(\"Feature 1\")\n",
        "plt.ylabel(\"Feature 2\")\n",
        "plt.show()\n",
        "\n",
        "# Step 4: Apply k-Means clustering\n",
        "# Initialize k-Means with 3 clusters\n",
        "kmeans = KMeans(n_clusters=3, random_state=42)\n",
        "\n",
        "# Fit the model to the data\n",
        "kmeans.fit(data) # The fit method is used to perform clustering on the dataset.\n",
        "\n",
        "# Step 5: Retrieve the cluster centroids and labels\n",
        "centroids = kmeans.cluster_centers_  # The coordinates of the cluster centers\n",
        "labels = kmeans.labels_  # Cluster labels for each data point ,  Array indicating which cluster each point belongs to.\n",
        "\n",
        "# Step 6: Visualize the clustered data\n",
        "plt.scatter(data[:, 0], data[:, 1], c=labels, s=50, cmap='viridis')\n",
        "plt.scatter(centroids[:, 0], centroids[:, 1], c='red', s=200, marker='X')  # Mark centroids\n",
        "plt.title(\"Clustered Data with k-Means\")\n",
        "plt.xlabel(\"Feature 1\")\n",
        "plt.ylabel(\"Feature 2\")\n",
        "plt.show()\n"
      ],
      "metadata": {
        "colab": {
          "base_uri": "https://localhost:8080/",
          "height": 962
        },
        "id": "urQICgV_dk_i",
        "outputId": "03eda4f1-7ac1-4996-ea06-31302b2072e1"
      },
      "execution_count": 25,
      "outputs": [
        {
          "output_type": "stream",
          "name": "stderr",
          "text": [
            "<ipython-input-25-580a5ebcc95f>:15: UserWarning: No data for colormapping provided via 'c'. Parameters 'cmap' will be ignored\n",
            "  plt.scatter(data[:, 0], data[:, 1], s=50, cmap='viridis')\n"
          ]
        },
        {
          "output_type": "display_data",
          "data": {
            "text/plain": [
              "<Figure size 640x480 with 1 Axes>"
            ],
            "image/png": "[encoded data removed]"
          },
          "metadata": {}
        },
        {
          "output_type": "display_data",
          "data": {
            "text/plain": [
              "<Figure size 640x480 with 1 Axes>"
            ],
            "image/png": "[encoded data removed]"
          },
          "metadata": {}
        }
      ]
    },
    {
      "cell_type": "code",
      "source": [
        "# Regression modelling\n",
        "# Step 1: Import necessary libraries\n",
        "import numpy as np\n",
        "import matplotlib.pyplot as plt\n",
        "from sklearn.model_selection import train_test_split\n",
        "from sklearn.linear_model import LinearRegression\n",
        "from sklearn.metrics import mean_squared_error, r2_score\n",
        "\n",
        "# Step 2: Create sample data\n",
        "# X is the independent variable, y is the dependent variable\n",
        "X = np.array([1, 2, 3, 4, 5, 6, 7, 8, 9, 10]).reshape(-1, 1)  # Reshaped for sklearn\n",
        "y = np.array([3, 4, 2, 5, 6, 7, 8, 9, 10, 12])\n",
        "\n",
        "# Step 3: Split data into training and testing sets\n",
        "X_train, X_test, y_train, y_test = train_test_split(X, y, test_size=0.2, random_state=42)\n",
        "\n",
        "# Step 4: Initialize and fit the regression model\n",
        "model = LinearRegression()  # Create the model\n",
        "model.fit(X_train, y_train)  # Train the model on the training set\n",
        "\n",
        "# Step 5: Make predictions\n",
        "y_pred = model.predict(X_test)  # Predict values for the test set\n",
        "\n",
        "# Step 6: Evaluate the model\n",
        "mse = mean_squared_error(y_test, y_pred)  # Calculate Mean Squared Error\n",
        "r2 = r2_score(y_test, y_pred)  # Calculate R-squared (goodness of fit)\n",
        "\n",
        "print(f\"Mean Squared Error: {mse}\")\n",
        "print(f\"R-squared: {r2}\")\n",
        "\n",
        "# Step 7: Visualize the regression line\n",
        "plt.scatter(X, y, color=\"blue\", label=\"Actual data\")\n",
        "plt.plot(X, model.predict(X), color=\"red\", label=\"Regression Line\")\n",
        "plt.title(\"Simple Linear Regression\")\n",
        "plt.xlabel(\"X (Independent Variable)\")\n",
        "plt.ylabel(\"y (Dependent Variable)\")\n",
        "plt.legend()\n",
        "plt.show()\n"
      ],
      "metadata": {
        "colab": {
          "base_uri": "https://localhost:8080/",
          "height": 507
        },
        "id": "3jX6Fye8iCXu",
        "outputId": "e2b943ee-59cb-42bb-a882-7f41f41a2579"
      },
      "execution_count": 26,
      "outputs": [
        {
          "output_type": "stream",
          "name": "stdout",
          "text": [
            "Mean Squared Error: 0.892761593341261\n",
            "R-squared: 0.9008042674065265\n"
          ]
        },
        {
          "output_type": "display_data",
          "data": {
            "text/plain": [
              "<Figure size 640x480 with 1 Axes>"
            ],
            "image/png": "[encoded data removed]"
          },
          "metadata": {}
        }
      ]
    },
    {
      "cell_type": "markdown",
      "source": [
        "detects multicollinearity in a dataset using a correlation matrix and Variance Inflation Factor (VIF)."
      ],
      "metadata": {
        "id": "ZixNL7v-mo84"
      }
    },
    {
      "cell_type": "code",
      "source": [
        "# Demonstrate How you will  Identify Multicollinearity Python\n",
        "# Step 1: Import necessary libraries\n",
        "import pandas as pd\n",
        "import numpy as np\n",
        "import seaborn as sns\n",
        "import matplotlib.pyplot as plt\n",
        "from statsmodels.stats.outliers_influence import variance_inflation_factor\n",
        "\n",
        "# Step 2: Create sample data\n",
        "np.random.seed(42) # Ensures reproducibility by generating the same random numbers each time.\n",
        "data = pd.DataFrame({ #Creates a dataframe with 4 random features\n",
        "    \"Feature1\": np.random.rand(100),\n",
        "    \"Feature2\": np.random.rand(100),\n",
        "    \"Feature3\": np.random.rand(100) * 2, # scaled by 2.\n",
        "    \"Feature4\": np.random.rand(100) * 0.5,\n",
        "})\n",
        "\n",
        "# Introduce multicollinearity\n",
        "data[\"Feature5\"] = data[\"Feature1\"] * 0.8 + data[\"Feature2\"] * 0.2\n",
        "#Feature5 is a linear combination of Feature1 (80%) and Feature2 (20%), introducing multicollinearity.\n",
        "\n",
        "# Step 3: Correlation Matrix\n",
        "corr_matrix = data.corr() # Calculates pairwise correlation coefficients for all features.\n",
        "plt.figure(figsize=(8, 6))\n",
        "#annot = True : Displays correlation values on the heatmap.\n",
        "# cmap=\"coolwarm\": Uses a red-blue color scheme for better visualization.\n",
        "# fmt=\".2f\": Formats the correlation values to two decimal places.\n",
        "sns.heatmap(corr_matrix, annot=True, cmap=\"coolwarm\", fmt=\".2f\")\n",
        "plt.title(\"Correlation Matrix\")\n",
        "plt.show()\n",
        "\n",
        "# Step 4: Calculate VIF\n",
        "# VIF measures how much a feature is affected by other features.\n",
        "# A VIF > 10 indicates severe multicollinearity.\n",
        "\n",
        "X = data  # Features only\n",
        "vif_data = pd.DataFrame()\n",
        "vif_data[\"Feature\"] = X.columns\n",
        "vif_data[\"VIF\"] = [variance_inflation_factor(X.values, i) for i in range(X.shape[1])]\n",
        "\n",
        "print(\"Variance Inflation Factor (VIF):\")\n",
        "print(vif_data)\n"
      ],
      "metadata": {
        "colab": {
          "base_uri": "https://localhost:8080/",
          "height": 701
        },
        "id": "wXo16Dw9mPcb",
        "outputId": "113fe5b9-2db2-4ace-ad0e-f76f952d009c"
      },
      "execution_count": 27,
      "outputs": [
        {
          "output_type": "display_data",
          "data": {
            "text/plain": [
              "<Figure size 800x600 with 2 Axes>"
            ],
            "image/png": "[encoded data removed]"
          },
          "metadata": {}
        },
        {
          "output_type": "stream",
          "name": "stdout",
          "text": [
            "Variance Inflation Factor (VIF):\n",
            "    Feature       VIF\n",
            "0  Feature1       inf\n",
            "1  Feature2       inf\n",
            "2  Feature3  2.715976\n",
            "3  Feature4  2.585478\n",
            "4  Feature5       inf\n"
          ]
        },
        {
          "output_type": "stream",
          "name": "stderr",
          "text": [
            "/usr/local/lib/python3.10/dist-packages/statsmodels/stats/outliers_influence.py:197: RuntimeWarning: divide by zero encountered in scalar divide\n",
            "  vif = 1. / (1. - r_squared_i)\n"
          ]
        }
      ]
    },
    {
      "cell_type": "markdown",
      "source": [
        "Principal Component Analysis (PCA), a popular dimensionality reduction technique. PCA transforms high-dimensional data into a lower-dimensional space while retaining as much variance as possible."
      ],
      "metadata": {
        "id": "WfyMZbD4nbrn"
      }
    },
    {
      "cell_type": "code",
      "source": [
        "# Demonstrate HOW you’ll apply PRINCIPAL COMPONENTS ANALYSIS Using Python\n",
        "# Step 1: Import necessary libraries\n",
        "from sklearn.decomposition import PCA #A module from Scikit-learn for performing dimensionality reduction.\n",
        "from sklearn.preprocessing import StandardScaler #Standardizes features to have a mean of 0 and a variance of 1, which is important for PCA.\n",
        "import pandas as pd\n",
        "import matplotlib.pyplot as plt\n",
        "\n",
        "# Step 2: Create a dataset\n",
        "np.random.seed(42)\n",
        "data = pd.DataFrame({\n",
        "    \"Feature1\": np.random.rand(100),\n",
        "    \"Feature2\": np.random.rand(100),\n",
        "    \"Feature3\": np.random.rand(100) * 2,\n",
        "    \"Feature4\": np.random.rand(100) * 0.5,\n",
        "    \"Feature5\": np.random.rand(100),\n",
        "})\n",
        "\n",
        "# Step 3: Standardize the data\n",
        "scaler = StandardScaler()\n",
        "scaled_data = scaler.fit_transform(data)\n",
        "\n",
        "# Step 4: Apply PCA\n",
        "pca = PCA(n_components=2)  # Specifies that we want to reduce the dataset to 2 dimensions.\n",
        "principal_components = pca.fit_transform(scaled_data) #finds the directions (principal components) in which the data has the most variance\n",
        "#Output: A matrix with 2 columns, representing the data in reduced dimensions\n",
        "\n",
        "# Step 5: Create a new DataFrame with the principal components\n",
        "pca_df = pd.DataFrame(data=principal_components, columns=[\"PC1\", \"PC2\"])\n",
        "\n",
        "# Step 6: Visualize the reduced dimensions\n",
        "plt.scatter(pca_df[\"PC1\"], pca_df[\"PC2\"], c=\"blue\", alpha=0.7)\n",
        "plt.title(\"PCA: Data Reduced to 2 Dimensions\")\n",
        "plt.xlabel(\"Principal Component 1\")\n",
        "plt.ylabel(\"Principal Component 2\")\n",
        "plt.show()\n",
        "\n",
        "# Step 7: Explained Variance Ratio\n",
        "print(\"Explained Variance Ratio:\", pca.explained_variance_ratio_)\n",
        "print(\"Cumulative Variance Explained:\", sum(pca.explained_variance_ratio_))\n"
      ],
      "metadata": {
        "colab": {
          "base_uri": "https://localhost:8080/",
          "height": 507
        },
        "id": "BLuXmfKamdBr",
        "outputId": "089f1dab-7485-4a77-9992-8a33c6211d65"
      },
      "execution_count": 28,
      "outputs": [
        {
          "output_type": "display_data",
          "data": {
            "text/plain": [
              "<Figure size 640x480 with 1 Axes>"
            ],
            "image/png": "[encoded data removed]"
          },
          "metadata": {}
        },
        {
          "output_type": "stream",
          "name": "stdout",
          "text": [
            "Explained Variance Ratio: [0.26598212 0.23311403]\n",
            "Cumulative Variance Explained: 0.49909615483733494\n"
          ]
        }
      ]
    },
    {
      "cell_type": "code",
      "source": [
        "import pandas as pd\n",
        "from sklearn.model_selection import train_test_split\n",
        "from sklearn.linear_model import LogisticRegression\n",
        "from sklearn.metrics import classification_report\n",
        "\n",
        "# Data: Age, Income, and whether they purchased\n",
        "data = pd.DataFrame({\n",
        "    \"Age\": [25, 30, 35, 40, 45, 50, 55, 60, 65, 70],\n",
        "    \"Income\": [30, 40, 50, 60, 70, 80, 90, 100, 110, 120],\n",
        "    \"WillPurchase\": [0, 0, 0, 0, 1, 1, 1, 1, 1, 1]\n",
        "})\n",
        "\n",
        "# Features and Target\n",
        "X = data[[\"Age\", \"Income\"]]\n",
        "y = data[\"WillPurchase\"]\n",
        "\n",
        "# Split Data\n",
        "X_train, X_test, y_train, y_test = train_test_split(X, y, test_size=0.2, random_state=42)\n",
        "\n",
        "# Logistic Regression Model\n",
        "model = LogisticRegression()\n",
        "model.fit(X_train, y_train)\n",
        "\n",
        "# Predictions and Evaluation\n",
        "y_pred = model.predict(X_test)\n",
        "print(\"Classification Report:\")\n",
        "print(classification_report(y_test, y_pred))\n"
      ],
      "metadata": {
        "colab": {
          "base_uri": "https://localhost:8080/"
        },
        "id": "tgA43qAAx-zK",
        "outputId": "0bab5c64-ae16-4358-dfdb-c5359cfe18c5"
      },
      "execution_count": 29,
      "outputs": [
        {
          "output_type": "stream",
          "name": "stdout",
          "text": [
            "Classification Report:\n",
            "              precision    recall  f1-score   support\n",
            "\n",
            "           0       1.00      1.00      1.00         1\n",
            "           1       1.00      1.00      1.00         1\n",
            "\n",
            "    accuracy                           1.00         2\n",
            "   macro avg       1.00      1.00      1.00         2\n",
            "weighted avg       1.00      1.00      1.00         2\n",
            "\n"
          ]
        }
      ]
    },
    {
      "cell_type": "code",
      "source": [
        "import pandas as pd\n",
        "import numpy as np\n",
        "from sklearn.model_selection import train_test_split\n",
        "from sklearn.linear_model import PoissonRegressor\n",
        "from sklearn.metrics import mean_squared_error\n",
        "\n",
        "# Data: Hour, Active Users, and Calls Received\n",
        "np.random.seed(42)\n",
        "data = pd.DataFrame({\n",
        "    \"Hour\": np.random.randint(0, 24, 100),  # Hour of the day\n",
        "    \"ActiveUsers\": np.random.randint(50, 200, 100),  # Active users\n",
        "    \"CallsReceived\": np.random.poisson(lam=10, size=100)  # Calls received (Poisson distributed)\n",
        "})\n",
        "\n",
        "# Features and Target\n",
        "X = data[[\"Hour\", \"ActiveUsers\"]]\n",
        "y = data[\"CallsReceived\"]\n",
        "\n",
        "# Split Data\n",
        "X_train, X_test, y_train, y_test = train_test_split(X, y, test_size=0.3, random_state=42)\n",
        "\n",
        "# Poisson Regression Model\n",
        "model = PoissonRegressor()\n",
        "model.fit(X_train, y_train)\n",
        "\n",
        "# Predictions and Evaluation\n",
        "y_pred = model.predict(X_test)\n",
        "mse = mean_squared_error(y_test, y_pred)\n",
        "print(\"Mean Squared Error:\", mse)\n"
      ],
      "metadata": {
        "colab": {
          "base_uri": "https://localhost:8080/"
        },
        "id": "neXXjzCdyYpC",
        "outputId": "c5b6f70a-e03a-4610-f09d-3be010c68368"
      },
      "execution_count": 30,
      "outputs": [
        {
          "output_type": "stream",
          "name": "stdout",
          "text": [
            "Mean Squared Error: 12.79615802932435\n"
          ]
        }
      ]
    },
    {
      "cell_type": "code",
      "source": [
        "# Step 1: Import necessary libraries\n",
        "import pandas as pd\n",
        "from mlxtend.frequent_patterns import apriori\n",
        "from mlxtend.frequent_patterns import association_rules\n",
        "\n",
        "# Step 2: Sample Transaction Data (represented as a DataFrame)\n",
        "data = {\n",
        "    \"Milk\": [1, 1, 0, 1, 0],\n",
        "    \"Bread\": [1, 1, 1, 1, 1],\n",
        "    \"Butter\": [0, 1, 1, 0, 1],\n",
        "    \"Cheese\": [1, 0, 0, 1, 0],\n",
        "}\n",
        "\n",
        "df = pd.DataFrame(data)\n",
        "\n",
        "# Step 3: Apply the Apriori Algorithm to find frequent itemsets\n",
        "frequent_itemsets = apriori(df, min_support=0.5, use_colnames=True)\n",
        "\n",
        "# Step 4: Generate the association rules based on the frequent itemsets\n",
        "# Specify num_itemsets (e.g., 1 as we only want rules for itemsets of size 1)\n",
        "rules = association_rules(frequent_itemsets, metric=\"lift\", min_threshold=1.0, num_itemsets=1)\n",
        "\n",
        "'''\n",
        "\n",
        "frequent_itemsets: The result of the apriori algorithm, which contains the frequent itemsets.\n",
        "\n",
        "metric=\"lift\": The metric used to evaluate the strength of the association rules.\n",
        "\n",
        "\"Lift\" measures the strength of a rule over the expected likelihood of the rule occurring by chance.\n",
        "min_threshold=1.0: Only rules with a lift greater than or equal to 1.0 will be considered.\n",
        "\n",
        "A lift value of 1 means that the rule is as likely as the chance of the individual items occurring.\n",
        "num_itemsets=1: This is used to specify the size of itemsets for which the rules should be generated.\n",
        "\n",
        " Here, 1 means that we're only interested in rules based on individual items (itemsets of size 1).\n",
        "'''\n",
        "\n",
        "\n",
        "# Step 5: Display the association rules\n",
        "print(rules)\n",
        "\n",
        "\n",
        "\n",
        "#This step prints out the association rules, which include:\n",
        "\n",
        "#Antecedents: The items on the left-hand side of the rule (the \"if\" part).\n",
        "#Consequents: The items on the right-hand side of the rule (the \"then\" part).\n",
        "#Support: The proportion of transactions that contain the itemset.\n",
        "#Confidence: The probability that the consequent occurs when the antecedent is present.\n",
        "#Lift: The ratio of observed support to expected support under independence.\n",
        "\n",
        "print(\"----------------------------------------\")\n",
        "# Q2: Apply Confidence Difference Criterion\n",
        "print(\" Apply Confidence Difference Criterion\")\n",
        "rules['Confidence Difference'] = rules['confidence'] - rules['lift']\n",
        "print(\"Rules with High Confidence Difference:\")\n",
        "print(rules[rules['Confidence Difference'] > 0.1])\n",
        "print(\"----------------------------------------\")\n",
        "print(\"Apply Confidence Quotient Criterion\")\n",
        "# Q3: Apply Confidence Quotient Criterion\n",
        "rules['Confidence Quotient'] = rules['confidence'] / rules['lift']\n",
        "print(\"Rules with High Confidence Quotient:\")\n",
        "print(rules[rules['Confidence Quotient'] > 1.5])\n"
      ],
      "metadata": {
        "colab": {
          "base_uri": "https://localhost:8080/"
        },
        "collapsed": true,
        "id": "lLAB8UCV3tmK",
        "outputId": "51850dd5-20c6-4378-fbf2-fcbec7add6dc"
      },
      "execution_count": 43,
      "outputs": [
        {
          "output_type": "stream",
          "name": "stdout",
          "text": [
            "  antecedents consequents  antecedent support  consequent support  support  \\\n",
            "0     (Bread)      (Milk)                 1.0                 0.6      0.6   \n",
            "1      (Milk)     (Bread)                 0.6                 1.0      0.6   \n",
            "2     (Bread)    (Butter)                 1.0                 0.6      0.6   \n",
            "3    (Butter)     (Bread)                 0.6                 1.0      0.6   \n",
            "\n",
            "   confidence  lift  representativity  leverage  conviction  zhangs_metric  \\\n",
            "0         0.6   1.0               1.0       0.0         1.0            0.0   \n",
            "1         1.0   1.0               1.0       0.0         inf            0.0   \n",
            "2         0.6   1.0               1.0       0.0         1.0            0.0   \n",
            "3         1.0   1.0               1.0       0.0         inf            0.0   \n",
            "\n",
            "   jaccard  certainty  kulczynski  \n",
            "0      0.6        0.0         0.8  \n",
            "1      0.6        0.0         0.8  \n",
            "2      0.6        0.0         0.8  \n",
            "3      0.6        0.0         0.8  \n",
            "----------------------------------------\n",
            " Apply Confidence Difference Criterion\n",
            "Rules with High Confidence Difference:\n",
            "Empty DataFrame\n",
            "Columns: [antecedents, consequents, antecedent support, consequent support, support, confidence, lift, representativity, leverage, conviction, zhangs_metric, jaccard, certainty, kulczynski, Confidence Difference]\n",
            "Index: []\n",
            "----------------------------------------\n",
            "Apply Confidence Quotient Criterion\n",
            "Rules with High Confidence Quotient:\n",
            "Empty DataFrame\n",
            "Columns: [antecedents, consequents, antecedent support, consequent support, support, confidence, lift, representativity, leverage, conviction, zhangs_metric, jaccard, certainty, kulczynski, Confidence Difference, Confidence Quotient]\n",
            "Index: []\n"
          ]
        },
        {
          "output_type": "stream",
          "name": "stderr",
          "text": [
            "/usr/local/lib/python3.10/dist-packages/ipykernel/ipkernel.py:283: DeprecationWarning: `should_run_async` will not call `transform_cell` automatically in the future. Please pass the result to `transformed_cell` argument and any exception that happen during thetransform in `preprocessing_exc_tuple` in IPython 7.17 and above.\n",
            "  and should_run_async(code)\n",
            "/usr/local/lib/python3.10/dist-packages/mlxtend/frequent_patterns/fpcommon.py:161: DeprecationWarning: DataFrames with non-bool types result in worse computationalperformance and their support might be discontinued in the future.Please use a DataFrame with bool type\n",
            "  warnings.warn(\n",
            "/usr/local/lib/python3.10/dist-packages/mlxtend/frequent_patterns/association_rules.py:182: RuntimeWarning: invalid value encountered in divide\n",
            "  cert_metric = np.where(certainty_denom == 0, 0, certainty_num / certainty_denom)\n"
          ]
        }
      ]
    }
  ]
}